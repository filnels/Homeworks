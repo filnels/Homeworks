{
  "cells": [
    {
      "cell_type": "markdown",
      "metadata": {
        "id": "view-in-github",
        "colab_type": "text"
      },
      "source": [
        "<a href=\"https://colab.research.google.com/github/filnels/Homeworks/blob/main/Pandas.ipynb\" target=\"_parent\"><img src=\"https://colab.research.google.com/assets/colab-badge.svg\" alt=\"Open In Colab\"/></a>"
      ]
    },
    {
      "cell_type": "markdown",
      "metadata": {
        "id": "lF8CKxytaM0a"
      },
      "source": [
        "<center>\n",
        "<img src=\"../../img/ods_stickers.jpg\">\n",
        "## Открытый курс по машинному обучению\n",
        "<center>\n",
        "Автор материала: Юрий Кашницкий, программист-исследователь Mail.Ru Group <br>\n",
        "\n",
        "Материал распространяется на условиях лицензии [Creative Commons CC BY-NC-SA 4.0](https://creativecommons.org/licenses/by-nc-sa/4.0/). Можно использовать в любых целях (редактировать, поправлять и брать за основу), кроме коммерческих, но с обязательным упоминанием автора материала."
      ]
    },
    {
      "cell_type": "markdown",
      "metadata": {
        "id": "nH7vGoWnaM0f"
      },
      "source": [
        "# <center>Домашнє завдання № 1 (демо).<br> Аналіз даних доходів населення UCI Adult</center>"
      ]
    },
    {
      "cell_type": "markdown",
      "metadata": {
        "id": "Kwq6xe9xaM0h"
      },
      "source": [
        "**В завданні пропонується за допомогою Pandas дати відповідь на кілька запитань по даним репозиторія UCI [Adult](https://archive.ics.uci.edu/ml/datasets/Adult).**"
      ]
    },
    {
      "cell_type": "markdown",
      "metadata": {
        "id": "_TV8cZwsaM0i"
      },
      "source": [
        "Унікальні значення ознак:\n",
        "- age: continuous.\n",
        "- workclass: Private, Self-emp-not-inc, Self-emp-inc, Federal-gov, Local-gov, State-gov, Without-pay, Never-worked.\n",
        "- fnlwgt: continuous.\n",
        "- education: Bachelors, Some-college, 11th, HS-grad, Prof-school, Assoc-acdm, Assoc-voc, 9th, 7th-8th, 12th, Masters, 1st-4th, 10th, Doctorate, 5th-6th, Preschool.\n",
        "- education-num: continuous.\n",
        "- marital-status: Married-civ-spouse, Divorced, Never-married, Separated, Widowed, Married-spouse-absent, Married-AF-spouse.\n",
        "- occupation: Tech-support, Craft-repair, Other-service, Sales, Exec-managerial, Prof-specialty, Handlers-cleaners, Machine-op-inspct, Adm-clerical, Farming-fishing, Transport-moving, Priv-house-serv, Protective-serv, Armed-Forces.\n",
        "- relationship: Wife, Own-child, Husband, Not-in-family, Other-relative, Unmarried.\n",
        "- race: White, Asian-Pac-Islander, Amer-Indian-Eskimo, Other, Black.\n",
        "- sex: Female, Male.\n",
        "- capital-gain: continuous.\n",
        "- capital-loss: continuous.\n",
        "- hours-per-week: continuous.\n",
        "- native-country: United-States, Cambodia, England, Puerto-Rico, Canada, Germany, Outlying-US(Guam-USVI-etc), India, Japan, Greece, South, China, Cuba, Iran, Honduras, Philippines, Italy, Poland, Jamaica, Vietnam, Mexico, Portugal, Ireland, France, Dominican-Republic, Laos, Ecuador, Taiwan, Haiti, Columbia, Hungary, Guatemala, Nicaragua, Scotland, Thailand, Yugoslavia, El-Salvador, Trinadad&Tobago, Peru, Hong, Holand-Netherlands.   \n",
        "- salary: >50K,<=50K"
      ]
    },
    {
      "cell_type": "code",
      "execution_count": null,
      "metadata": {
        "id": "VhWfVeQXaM0j"
      },
      "outputs": [],
      "source": [
        "import pandas as pd\n",
        "import numpy as np"
      ]
    },
    {
      "cell_type": "code",
      "execution_count": null,
      "metadata": {
        "id": "pyYTy6y2aM0m",
        "outputId": "0dde5c4f-45a6-4bdd-97d7-676e9e32e0f6"
      },
      "outputs": [
        {
          "data": {
            "text/html": [
              "<div>\n",
              "<style scoped>\n",
              "    .dataframe tbody tr th:only-of-type {\n",
              "        vertical-align: middle;\n",
              "    }\n",
              "\n",
              "    .dataframe tbody tr th {\n",
              "        vertical-align: top;\n",
              "    }\n",
              "\n",
              "    .dataframe thead th {\n",
              "        text-align: right;\n",
              "    }\n",
              "</style>\n",
              "<table border=\"1\" class=\"dataframe\">\n",
              "  <thead>\n",
              "    <tr style=\"text-align: right;\">\n",
              "      <th></th>\n",
              "      <th>age</th>\n",
              "      <th>workclass</th>\n",
              "      <th>fnlwgt</th>\n",
              "      <th>education</th>\n",
              "      <th>education-num</th>\n",
              "      <th>marital-status</th>\n",
              "      <th>occupation</th>\n",
              "      <th>relationship</th>\n",
              "      <th>race</th>\n",
              "      <th>sex</th>\n",
              "      <th>capital-gain</th>\n",
              "      <th>capital-loss</th>\n",
              "      <th>hours-per-week</th>\n",
              "      <th>native-country</th>\n",
              "      <th>salary</th>\n",
              "    </tr>\n",
              "  </thead>\n",
              "  <tbody>\n",
              "    <tr>\n",
              "      <th>0</th>\n",
              "      <td>39</td>\n",
              "      <td>State-gov</td>\n",
              "      <td>77516</td>\n",
              "      <td>Bachelors</td>\n",
              "      <td>13</td>\n",
              "      <td>Never-married</td>\n",
              "      <td>Adm-clerical</td>\n",
              "      <td>Not-in-family</td>\n",
              "      <td>White</td>\n",
              "      <td>Male</td>\n",
              "      <td>2174</td>\n",
              "      <td>0</td>\n",
              "      <td>40</td>\n",
              "      <td>United-States</td>\n",
              "      <td>&lt;=50K</td>\n",
              "    </tr>\n",
              "    <tr>\n",
              "      <th>1</th>\n",
              "      <td>50</td>\n",
              "      <td>Self-emp-not-inc</td>\n",
              "      <td>83311</td>\n",
              "      <td>Bachelors</td>\n",
              "      <td>13</td>\n",
              "      <td>Married-civ-spouse</td>\n",
              "      <td>Exec-managerial</td>\n",
              "      <td>Husband</td>\n",
              "      <td>White</td>\n",
              "      <td>Male</td>\n",
              "      <td>0</td>\n",
              "      <td>0</td>\n",
              "      <td>13</td>\n",
              "      <td>United-States</td>\n",
              "      <td>&lt;=50K</td>\n",
              "    </tr>\n",
              "    <tr>\n",
              "      <th>2</th>\n",
              "      <td>38</td>\n",
              "      <td>Private</td>\n",
              "      <td>215646</td>\n",
              "      <td>HS-grad</td>\n",
              "      <td>9</td>\n",
              "      <td>Divorced</td>\n",
              "      <td>Handlers-cleaners</td>\n",
              "      <td>Not-in-family</td>\n",
              "      <td>White</td>\n",
              "      <td>Male</td>\n",
              "      <td>0</td>\n",
              "      <td>0</td>\n",
              "      <td>40</td>\n",
              "      <td>United-States</td>\n",
              "      <td>&lt;=50K</td>\n",
              "    </tr>\n",
              "    <tr>\n",
              "      <th>3</th>\n",
              "      <td>53</td>\n",
              "      <td>Private</td>\n",
              "      <td>234721</td>\n",
              "      <td>11th</td>\n",
              "      <td>7</td>\n",
              "      <td>Married-civ-spouse</td>\n",
              "      <td>Handlers-cleaners</td>\n",
              "      <td>Husband</td>\n",
              "      <td>Black</td>\n",
              "      <td>Male</td>\n",
              "      <td>0</td>\n",
              "      <td>0</td>\n",
              "      <td>40</td>\n",
              "      <td>United-States</td>\n",
              "      <td>&lt;=50K</td>\n",
              "    </tr>\n",
              "    <tr>\n",
              "      <th>4</th>\n",
              "      <td>28</td>\n",
              "      <td>Private</td>\n",
              "      <td>338409</td>\n",
              "      <td>Bachelors</td>\n",
              "      <td>13</td>\n",
              "      <td>Married-civ-spouse</td>\n",
              "      <td>Prof-specialty</td>\n",
              "      <td>Wife</td>\n",
              "      <td>Black</td>\n",
              "      <td>Female</td>\n",
              "      <td>0</td>\n",
              "      <td>0</td>\n",
              "      <td>40</td>\n",
              "      <td>Cuba</td>\n",
              "      <td>&lt;=50K</td>\n",
              "    </tr>\n",
              "  </tbody>\n",
              "</table>\n",
              "</div>"
            ],
            "text/plain": [
              "   age         workclass  fnlwgt  education  education-num  \\\n",
              "0   39         State-gov   77516  Bachelors             13   \n",
              "1   50  Self-emp-not-inc   83311  Bachelors             13   \n",
              "2   38           Private  215646    HS-grad              9   \n",
              "3   53           Private  234721       11th              7   \n",
              "4   28           Private  338409  Bachelors             13   \n",
              "\n",
              "       marital-status         occupation   relationship   race     sex  \\\n",
              "0       Never-married       Adm-clerical  Not-in-family  White    Male   \n",
              "1  Married-civ-spouse    Exec-managerial        Husband  White    Male   \n",
              "2            Divorced  Handlers-cleaners  Not-in-family  White    Male   \n",
              "3  Married-civ-spouse  Handlers-cleaners        Husband  Black    Male   \n",
              "4  Married-civ-spouse     Prof-specialty           Wife  Black  Female   \n",
              "\n",
              "   capital-gain  capital-loss  hours-per-week native-country salary  \n",
              "0          2174             0              40  United-States  <=50K  \n",
              "1             0             0              13  United-States  <=50K  \n",
              "2             0             0              40  United-States  <=50K  \n",
              "3             0             0              40  United-States  <=50K  \n",
              "4             0             0              40           Cuba  <=50K  "
            ]
          },
          "execution_count": 81,
          "metadata": {},
          "output_type": "execute_result"
        }
      ],
      "source": [
        "data = pd.read_csv('adult.data.csv')\n",
        "data.head()"
      ]
    },
    {
      "cell_type": "markdown",
      "metadata": {
        "id": "SY-4UcleaM0o"
      },
      "source": [
        "**1. Скільки чоловіків и жінок (ознака *sex*) представлено в цьому наборі даних?**"
      ]
    },
    {
      "cell_type": "code",
      "execution_count": null,
      "metadata": {
        "id": "qP_s33M_aM0p",
        "outputId": "6b6bb6a0-8f78-4345-9697-2fa5a473e90d"
      },
      "outputs": [
        {
          "data": {
            "text/plain": [
              "sex\n",
              "Female    10771\n",
              "Male      21790\n",
              "Name: sex, dtype: int64"
            ]
          },
          "execution_count": 82,
          "metadata": {},
          "output_type": "execute_result"
        }
      ],
      "source": [
        "data.groupby('sex')['sex'].count()"
      ]
    },
    {
      "cell_type": "markdown",
      "metadata": {
        "id": "HpQH9lRNaM0q"
      },
      "source": [
        "**2. Який середній вік (ознака *age*) жінок?**"
      ]
    },
    {
      "cell_type": "code",
      "execution_count": null,
      "metadata": {
        "id": "rb92gkn1aM0r",
        "outputId": "0cb08d9b-849d-40a1-cfd0-2f0d7bf5a0ce"
      },
      "outputs": [
        {
          "name": "stdout",
          "output_type": "stream",
          "text": [
            "середній вік жінок:  37\n"
          ]
        }
      ],
      "source": [
        "data_female=data[data['sex'] == 'Female'] # фільтруєм данні, тільки жінки\n",
        "average_age = round(data_female['age'].mean())\n",
        "print('середній вік жінок: ', average_age)\n",
        "\n"
      ]
    },
    {
      "cell_type": "markdown",
      "metadata": {
        "id": "9B31wB19aM0s"
      },
      "source": [
        "**3. Яка доля громадян Німеччини (ознака *native-country*)?**"
      ]
    },
    {
      "cell_type": "code",
      "execution_count": null,
      "metadata": {
        "id": "XxLKi8VPaM0s",
        "outputId": "c5349311-1982-4846-a0c8-49bcf2bc874a"
      },
      "outputs": [
        {
          "name": "stdout",
          "output_type": "stream",
          "text": [
            "доля громадян Німеччини: 0.42 %\n"
          ]
        }
      ],
      "source": [
        "Germany_country = data[data['native-country'] == 'Germany']\n",
        "Total = data.shape[0]\n",
        "count_Germany = Germany_country.shape[0]\n",
        "percent_Germany = round((count_Germany/Total)*100, 2)\n",
        "print('доля громадян Німеччини:', percent_Germany, '%')"
      ]
    },
    {
      "cell_type": "markdown",
      "metadata": {
        "id": "34j05UeUaM0t"
      },
      "source": [
        "**4-5. Які средні значення та средньоквадратичні відхилення віку тих, хто отримує більше 50K на рік (ознака *salary*) і тих, хто отримує менше 50K на рік?**"
      ]
    },
    {
      "cell_type": "code",
      "execution_count": null,
      "metadata": {
        "id": "PyehAwIqaM0u",
        "outputId": "27317a87-9b16-4940-e447-7d54d30225a8"
      },
      "outputs": [
        {
          "name": "stdout",
          "output_type": "stream",
          "text": [
            "средні значення та средньоквадратичні відхилення віку тих, хто отримує більше 50K на рік: mean    44.25\n",
            "std     10.52\n",
            "Name: age, dtype: float64\n",
            "средні значення та средньоквадратичні відхилення віку тих, хто отримує менше 50K на рік: mean    36.78\n",
            "std     14.02\n",
            "Name: age, dtype: float64\n"
          ]
        }
      ],
      "source": [
        "rich_people = data[data['salary'] == '>50K']\n",
        "poor_people = data[data['salary'] == '<=50K']\n",
        "age_statistic_rich_people=round(rich_people['age'].agg(['mean', 'std']),2)\n",
        "age_statistic_poor_people=round(poor_people['age'].agg(['mean', 'std']),2)\n",
        "print('средні значення та средньоквадратичні відхилення віку тих, хто отримує більше 50K на рік:',age_statistic_rich_people)\n",
        "print('средні значення та средньоквадратичні відхилення віку тих, хто отримує менше 50K на рік:',age_statistic_poor_people)"
      ]
    },
    {
      "cell_type": "markdown",
      "metadata": {
        "id": "m6UtluXUaM0u"
      },
      "source": [
        "**6. Чи правда, що люди, які отримують більше 50k, мають як мінімум вищу освіту? (ознака *education – Bachelors, Prof-school, Assoc-acdm, Assoc-voc, Masters* или *Doctorate*)**"
      ]
    },
    {
      "cell_type": "code",
      "execution_count": null,
      "metadata": {
        "id": "q4uZR83CaM0v",
        "outputId": "2fa6dc6e-1600-4674-846d-49e2ae5db2f6"
      },
      "outputs": [
        {
          "name": "stdout",
          "output_type": "stream",
          "text": [
            "Ні, не всі люди, які отримують більше 50k, мають вищу освіту.\n"
          ]
        }
      ],
      "source": [
        "# Визначаємо категорії для вищої освіти\n",
        "higher_education = ['Bachelors', 'Prof-school', 'Assoc-acdm', 'Assoc-voc', 'Masters', 'Doctorate']\n",
        "# проверка\n",
        "education_check = rich_people['education'].isin(higher_education).all()\n",
        "\n",
        "if education_check:\n",
        "    print(\"Так, всі люди, які отримують більше 50k, мають як мінімум вищу освіту.\")\n",
        "else:\n",
        "    print(\"Ні, не всі люди, які отримують більше 50k, мають вищу освіту.\")"
      ]
    },
    {
      "cell_type": "markdown",
      "metadata": {
        "id": "hGMdzdsKaM0v"
      },
      "source": [
        "**7. Порахуйте статистику віку для кожної раси (ознака *race*) і кожної статі. Використайте *groupby* и *describe*. Знайдіть таким сином максимальний вік чоловіків раси *Amer-Indian-Eskimo*.**"
      ]
    },
    {
      "cell_type": "code",
      "execution_count": null,
      "metadata": {
        "id": "D8dHLgPaaM0w",
        "outputId": "3ea09b95-ebdf-4d7f-ec98-a18e4fed6466"
      },
      "outputs": [
        {
          "name": "stdout",
          "output_type": "stream",
          "text": [
            "                             count       mean        std   min   25%   50%  \\\n",
            "race               sex                                                       \n",
            "Amer-Indian-Eskimo Female    119.0  37.117647  13.114991  17.0  27.0  36.0   \n",
            "                   Male      192.0  37.208333  12.049563  17.0  28.0  35.0   \n",
            "Asian-Pac-Islander Female    346.0  35.089595  12.300845  17.0  25.0  33.0   \n",
            "                   Male      693.0  39.073593  12.883944  18.0  29.0  37.0   \n",
            "Black              Female   1555.0  37.854019  12.637197  17.0  28.0  37.0   \n",
            "                   Male     1569.0  37.682600  12.882612  17.0  27.0  36.0   \n",
            "Other              Female    109.0  31.678899  11.631599  17.0  23.0  29.0   \n",
            "                   Male      162.0  34.654321  11.355531  17.0  26.0  32.0   \n",
            "White              Female   8642.0  36.811618  14.329093  17.0  25.0  35.0   \n",
            "                   Male    19174.0  39.652498  13.436029  17.0  29.0  38.0   \n",
            "\n",
            "                             75%   max  \n",
            "race               sex                  \n",
            "Amer-Indian-Eskimo Female  46.00  80.0  \n",
            "                   Male    45.00  82.0  \n",
            "Asian-Pac-Islander Female  43.75  75.0  \n",
            "                   Male    46.00  90.0  \n",
            "Black              Female  46.00  90.0  \n",
            "                   Male    46.00  90.0  \n",
            "Other              Female  39.00  74.0  \n",
            "                   Male    42.00  77.0  \n",
            "White              Female  46.00  90.0  \n",
            "                   Male    49.00  90.0  \n"
          ]
        }
      ],
      "source": [
        "# статистика віку для кожної раси та статі\n",
        "age_st = data.groupby(['race', 'sex'])['age'].describe()\n",
        "\n",
        "print(age_st)"
      ]
    },
    {
      "cell_type": "code",
      "execution_count": null,
      "metadata": {
        "id": "_zsZBozqaM0x",
        "outputId": "e25c1a8f-4045-491d-bf78-6e06cad581b7"
      },
      "outputs": [
        {
          "name": "stdout",
          "output_type": "stream",
          "text": [
            "Максимальний вік чоловіків раси Amer-Indian-Eskimo: 82\n"
          ]
        }
      ],
      "source": [
        "race_Eskimo = data[(data['race'] == 'Amer-Indian-Eskimo') & (data['sex'] == 'Male')]\n",
        "\n",
        "# Знаходження максимального віку\n",
        "max_age_Eskimo = race_Eskimo['age'].max()\n",
        "\n",
        "print('Максимальний вік чоловіків раси Amer-Indian-Eskimo:', max_age_Eskimo)\n"
      ]
    },
    {
      "cell_type": "markdown",
      "metadata": {
        "id": "fLVQZrrJaM0y"
      },
      "source": [
        "**8. Серед кого більша доля багатіших (>50K): серед одружених чи не одружених чоловіків (ознака *marital-status*)? За одружених вважаємо тих, у кого *marital-status* починається із *Married* (Married-civ-spouse, Married-spouse-absent или Married-AF-spouse), всі інші - не одружені.**"
      ]
    },
    {
      "cell_type": "code",
      "execution_count": null,
      "metadata": {
        "id": "VNwqq_BjaM0z",
        "outputId": "48526e48-00af-4566-c235-af600bf8e4cd"
      },
      "outputs": [
        {
          "name": "stdout",
          "output_type": "stream",
          "text": [
            "Серед одружених чоловіків більша доля багатіших\n",
            "Доля багатих одружених: 89.54 %\n",
            "Доля багатих неодружених: 10.46 %\n"
          ]
        }
      ],
      "source": [
        "# Список для одружених і неодружених\n",
        "marital_status = ['Married-civ-spouse', 'Married-spouse-absent', 'Married-AF-spouse']\n",
        "unmarital_status = ['Divorced', 'Never-married', 'Separated', 'Widowed']\n",
        "\n",
        "# Фільтрація багатих чоловіків\n",
        "male_rich = rich_people[rich_people['sex'] == 'Male']\n",
        "\n",
        "# Загальна кількість багатих чоловіків\n",
        "Total_rich_male = male_rich.shape[0]\n",
        "\n",
        "# Підрахунок багатих одружених чоловіків\n",
        "rich_male_marital = male_rich[male_rich['marital-status'].isin(marital_status)].shape[0]\n",
        "\n",
        "# Підрахунок багатих неодружених чоловіків\n",
        "rich_male_unmarital = male_rich[male_rich['marital-status'].isin(unmarital_status)].shape[0]\n",
        "\n",
        "percent_rich_marital = round((rich_male_marital / Total_rich_male) * 100,2)\n",
        "percent_rich_unmarital = round((rich_male_unmarital / Total_rich_male) * 100,2)\n",
        "\n",
        "# Порівняння кількості багатих одружених і неодружених чоловіків\n",
        "if percent_rich_marital > percent_rich_unmarital:\n",
        "    print('Серед одружених чоловіків більша доля багатіших')\n",
        "    print('Доля багатих одружених:', percent_rich_marital, '%')\n",
        "else:\n",
        "    print('Серед неодружених чоловіків більша доля багатіших')\n",
        "print('Доля багатих неодружених:', percent_rich_unmarital, '%')\n"
      ]
    },
    {
      "cell_type": "markdown",
      "metadata": {
        "id": "ZVWNWIVxaM00"
      },
      "source": [
        "**9. Яку максимальну кількість годин в тиждень працює людина (ознака *hours-per-week*)? Скільки людей працюють таку кількість годин і який відсоток серед них багатих?**"
      ]
    },
    {
      "cell_type": "code",
      "execution_count": null,
      "metadata": {
        "id": "RIJv8P_-aM00",
        "outputId": "d1f2f480-046f-459d-ea0d-e4f7991d3a9d"
      },
      "outputs": [
        {
          "name": "stdout",
          "output_type": "stream",
          "text": [
            "максимальное количество часов в неделю працює людина: 99\n",
            "колличество людей, которые работают максимальное количество часов в неделю: 85\n",
            "який відсоток серед тих, що працюэ максим. годин - багатих: 29.41\n"
          ]
        }
      ],
      "source": [
        "count = data['hours-per-week'].max()  # Находим максимальное значение в столбце 'hours-per-week'\n",
        "people_max_hours = data[data['hours-per-week'] == count]  # Фильтруем по максимальному значению\n",
        "count_max_hours = people_max_hours.shape[0]\n",
        "rich_people = people_max_hours[people_max_hours['salary'] == '>50K']\n",
        "count_rich_people = rich_people.shape[0]\n",
        "percent_rich = round((count_rich_people / count_max_hours) * 100, 2)\n",
        "print('максимальное количество часов в неделю працює людина:', count)\n",
        "print('колличество людей, которые работают максимальное количество часов в неделю:', count_max_hours)\n",
        "print('який відсоток серед тих людей, що працюэ максим. годин - багатих:', percent_rich)\n"
      ]
    },
    {
      "cell_type": "markdown",
      "metadata": {
        "id": "N2kqhoDuaM01"
      },
      "source": [
        "**10. Порахуйте середню тривалість роботи на тиждень (*hours-per-week*) серед багатих і бідних (*salary*) для кожної країни (*native-country*).**"
      ]
    },
    {
      "cell_type": "code",
      "execution_count": null,
      "metadata": {
        "id": "qEgEYLq3aM02",
        "outputId": "1fe2ac2d-d17a-4e5b-ce6b-17c112e28307"
      },
      "outputs": [
        {
          "name": "stdout",
          "output_type": "stream",
          "text": [
            "середню тривалість роботи на тиждень (hours-per-week) серед багатих для кожної країни:\n",
            "  native-country\n",
            "Cambodia              40.00\n",
            "Canada                45.64\n",
            "China                 38.90\n",
            "Columbia              50.00\n",
            "Cuba                  42.44\n",
            "Dominican-Republic    47.00\n",
            "Ecuador               48.75\n",
            "El-Salvador           45.00\n",
            "England               44.53\n",
            "France                50.75\n",
            "Germany               44.98\n",
            "Greece                50.62\n",
            "Guatemala             36.67\n",
            "Haiti                 42.75\n",
            "Honduras              60.00\n",
            "Hong                  45.00\n",
            "Hungary               50.00\n",
            "India                 46.48\n",
            "Iran                  47.50\n",
            "Ireland               48.00\n",
            "Italy                 45.40\n",
            "Jamaica               41.10\n",
            "Japan                 47.96\n",
            "Laos                  40.00\n",
            "Mexico                46.58\n",
            "Nicaragua             37.50\n",
            "Peru                  40.00\n",
            "Philippines           43.03\n",
            "Poland                39.00\n",
            "Portugal              41.50\n",
            "Puerto-Rico           39.42\n",
            "Scotland              46.67\n",
            "South                 51.44\n",
            "Taiwan                46.80\n",
            "Thailand              58.33\n",
            "Trinadad&Tobago       40.00\n",
            "United-States         45.51\n",
            "Vietnam               39.20\n",
            "Yugoslavia            49.50\n",
            "Name: hours-per-week, dtype: float64\n",
            "середню тривалість роботи на тиждень (hours-per-week) серед бідних для кожної країни:\n",
            "  native-country\n",
            "Cambodia                      41.42\n",
            "Canada                        37.91\n",
            "China                         37.38\n",
            "Columbia                      38.68\n",
            "Cuba                          37.99\n",
            "Dominican-Republic            42.34\n",
            "Ecuador                       38.04\n",
            "El-Salvador                   36.03\n",
            "England                       40.48\n",
            "France                        41.06\n",
            "Germany                       39.14\n",
            "Greece                        41.81\n",
            "Guatemala                     39.36\n",
            "Haiti                         36.33\n",
            "Holand-Netherlands            40.00\n",
            "Honduras                      34.33\n",
            "Hong                          39.14\n",
            "Hungary                       31.30\n",
            "India                         38.23\n",
            "Iran                          41.44\n",
            "Ireland                       40.95\n",
            "Italy                         39.62\n",
            "Jamaica                       38.24\n",
            "Japan                         41.00\n",
            "Laos                          40.38\n",
            "Mexico                        40.00\n",
            "Nicaragua                     36.09\n",
            "Outlying-US(Guam-USVI-etc)    41.86\n",
            "Peru                          35.07\n",
            "Philippines                   38.07\n",
            "Poland                        38.17\n",
            "Portugal                      41.94\n",
            "Puerto-Rico                   38.47\n",
            "Scotland                      39.44\n",
            "South                         40.16\n",
            "Taiwan                        33.77\n",
            "Thailand                      42.87\n",
            "Trinadad&Tobago               37.06\n",
            "United-States                 38.80\n",
            "Vietnam                       37.19\n",
            "Yugoslavia                    41.60\n",
            "Name: hours-per-week, dtype: float64\n"
          ]
        }
      ],
      "source": [
        "# Удаляем строки, где 'native-country' содержит '?'\n",
        "rich_people_clean = rich_people[rich_people['native-country'] != '?']\n",
        "poor_people_clean = poor_people[poor_people['native-country'] != '?']\n",
        "country_hours_week_rich = round(rich_people_clean.groupby(['native-country'])['hours-per-week'].mean(),2)\n",
        "country_hours_week_poor = round(poor_people_clean.groupby(['native-country'])['hours-per-week'].mean(),2)\n",
        "print('середня тривалість роботи на тиждень (hours-per-week) серед багатих для кожної країни:\\n ', country_hours_week_rich)\n",
        "\n",
        "print('середня тривалість роботи на тиждень (hours-per-week) серед бідних для кожної країни:\\n ', country_hours_week_poor)"
      ]
    },
    {
      "cell_type": "code",
      "execution_count": null,
      "metadata": {
        "id": "KfMVmFHqaM02"
      },
      "outputs": [],
      "source": []
    }
  ],
  "metadata": {
    "anaconda-cloud": {},
    "kernelspec": {
      "display_name": "Python 3 (ipykernel)",
      "language": "python",
      "name": "python3"
    },
    "language_info": {
      "codemirror_mode": {
        "name": "ipython",
        "version": 3
      },
      "file_extension": ".py",
      "mimetype": "text/x-python",
      "name": "python",
      "nbconvert_exporter": "python",
      "pygments_lexer": "ipython3",
      "version": "3.12.4"
    },
    "colab": {
      "provenance": [],
      "include_colab_link": true
    }
  },
  "nbformat": 4,
  "nbformat_minor": 0
}