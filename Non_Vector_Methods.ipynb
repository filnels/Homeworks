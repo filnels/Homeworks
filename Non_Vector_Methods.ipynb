{
  "cells": [
    {
      "cell_type": "markdown",
      "metadata": {
        "id": "view-in-github",
        "colab_type": "text"
      },
      "source": [
        "<a href=\"https://colab.research.google.com/github/filnels/Homeworks/blob/main/Non_Vector_Methods.ipynb\" target=\"_parent\"><img src=\"https://colab.research.google.com/assets/colab-badge.svg\" alt=\"Open In Colab\"/></a>"
      ]
    },
    {
      "cell_type": "code",
      "execution_count": null,
      "id": "3b41dc8e-daf2-4f91-b102-b228e61ff94a",
      "metadata": {
        "id": "3b41dc8e-daf2-4f91-b102-b228e61ff94a"
      },
      "outputs": [],
      "source": [
        "\n",
        "import os\n",
        "import pandas as pd\n",
        "from sklearn.model_selection import train_test_split\n",
        "from sklearn.feature_extraction.text import CountVectorizer, TfidfVectorizer\n",
        "from sklearn.metrics import accuracy_score, classification_report\n",
        "\n"
      ]
    },
    {
      "cell_type": "code",
      "execution_count": null,
      "id": "3116b03f-5db6-4468-84f0-92db3259316b",
      "metadata": {
        "id": "3116b03f-5db6-4468-84f0-92db3259316b",
        "outputId": "5195cbfe-53e4-4c48-f94c-550f37e87c9d"
      },
      "outputs": [
        {
          "name": "stdout",
          "output_type": "stream",
          "text": [
            "Large Movie Review Dataset v1.0\n",
            "\n",
            "Overview\n",
            "\n",
            "This dataset contains movie reviews along with their associated binary\n",
            "sentiment polarity labels. It is intended to serve as a benchmark for\n",
            "sentiment classification. This document outlines how the dataset was\n",
            "gathered, and how to use the files provided. \n",
            "\n",
            "Dataset \n",
            "\n",
            "The core dataset contains 50,000 reviews split evenly into 25k train\n",
            "and 25k test sets. The overall distribution of labels is balanced (25k\n",
            "pos and 25k neg). We also include an additional 50,000 unlabeled\n",
            "documents for unsupervised learning. \n",
            "\n",
            "In the entire collection, no more than 30 reviews are allowed for any\n",
            "given movie because reviews for the same movie tend to have correlated\n",
            "ratings. Further, the train and test sets contain a disjoint set of\n",
            "movies, so no significant performance is obtained by memorizing\n",
            "movie-unique terms and their associated with observed labels.  In the\n",
            "labeled train/test sets, a negative review has a score <= 4 out of 10,\n",
            "and a positive review has a score >= 7 out of 10. Thus reviews with\n",
            "more neutral ratings are not included in the train/test sets. In the\n",
            "unsupervised set, reviews of any rating are included and there are an\n",
            "even number of reviews > 5 and <= 5.\n",
            "\n",
            "Files\n",
            "\n",
            "There are two top-level directories [train/, test/] corresponding to\n",
            "the training and test sets. Each contains [pos/, neg/] directories for\n",
            "the reviews with binary labels positive and negative. Within these\n",
            "directories, reviews are stored in text files named following the\n",
            "convention [[id]_[rating].txt] where [id] is a unique id and [rating] is\n",
            "the star rating for that review on a 1-10 scale. For example, the file\n",
            "[test/pos/200_8.txt] is the text for a positive-labeled test set\n",
            "example with unique id 200 and star rating 8/10 from IMDb. The\n",
            "[train/unsup/] directory has 0 for all ratings because the ratings are\n",
            "omitted for this portion of the dataset.\n",
            "\n",
            "We also include the IMDb URLs for each review in a separate\n",
            "[urls_[pos, neg, unsup].txt] file. A review with unique id 200 will\n",
            "have its URL on line 200 of this file. Due the ever-changing IMDb, we\n",
            "are unable to link directly to the review, but only to the movie's\n",
            "review page.\n",
            "\n",
            "In addition to the review text files, we include already-tokenized bag\n",
            "of words (BoW) features that were used in our experiments. These \n",
            "are stored in .feat files in the train/test directories. Each .feat\n",
            "file is in LIBSVM format, an ascii sparse-vector format for labeled\n",
            "data.  The feature indices in these files start from 0, and the text\n",
            "tokens corresponding to a feature index is found in [imdb.vocab]. So a\n",
            "line with 0:7 in a .feat file means the first word in [imdb.vocab]\n",
            "(the) appears 7 times in that review.\n",
            "\n",
            "LIBSVM page for details on .feat file format:\n",
            "http://www.csie.ntu.edu.tw/~cjlin/libsvm/\n",
            "\n",
            "We also include [imdbEr.txt] which contains the expected rating for\n",
            "each token in [imdb.vocab] as computed by (Potts, 2011). The expected\n",
            "rating is a good way to get a sense for the average polarity of a word\n",
            "in the dataset.\n",
            "\n",
            "Citing the dataset\n",
            "\n",
            "When using this dataset please cite our ACL 2011 paper which\n",
            "introduces it. This paper also contains classification results which\n",
            "you may want to compare against.\n",
            "\n",
            "\n",
            "@InProceedings{maas-EtAl:2011:ACL-HLT2011,\n",
            "  author    = {Maas, Andrew L.  and  Daly, Raymond E.  and  Pham, Peter T.  and  Huang, Dan  and  Ng, Andrew Y.  and  Potts, Christopher},\n",
            "  title     = {Learning Word Vectors for Sentiment Analysis},\n",
            "  booktitle = {Proceedings of the 49th Annual Meeting of the Association for Computational Linguistics: Human Language Technologies},\n",
            "  month     = {June},\n",
            "  year      = {2011},\n",
            "  address   = {Portland, Oregon, USA},\n",
            "  publisher = {Association for Computational Linguistics},\n",
            "  pages     = {142--150},\n",
            "  url       = {http://www.aclweb.org/anthology/P11-1015}\n",
            "}\n",
            "\n",
            "References\n",
            "\n",
            "Potts, Christopher. 2011. On the negativity of negation. In Nan Li and\n",
            "David Lutz, eds., Proceedings of Semantics and Linguistic Theory 20,\n",
            "636-659.\n",
            "\n",
            "Contact\n",
            "\n",
            "For questions/comments/corrections please contact Andrew Maas\n",
            "amaas@cs.stanford.edu\n",
            "\n"
          ]
        }
      ],
      "source": [
        "# Открываем файл README (без расширения) для чтения\n",
        "with open('README', 'r', encoding='utf-8') as file:\n",
        "    content = file.read()\n",
        "\n",
        "print(content)\n"
      ]
    },
    {
      "cell_type": "code",
      "execution_count": null,
      "id": "9a535d02-788b-472b-89f5-af6375115945",
      "metadata": {
        "id": "9a535d02-788b-472b-89f5-af6375115945"
      },
      "outputs": [],
      "source": [
        "# функция для чтения отзывов и присвоения им меток:\n",
        "def load_reviews_from_folder(folder, label):\n",
        "    reviews = []\n",
        "    for filename in os.listdir(folder):\n",
        "        if filename.endswith(\".txt\"):\n",
        "            with open(os.path.join(folder, filename), 'r', encoding='utf-8') as file:\n",
        "                reviews.append((file.read(), label))\n",
        "    return reviews\n"
      ]
    },
    {
      "cell_type": "code",
      "execution_count": null,
      "id": "9bf37fac-4ba5-4871-98ff-bee7c02cc153",
      "metadata": {
        "id": "9bf37fac-4ba5-4871-98ff-bee7c02cc153"
      },
      "outputs": [],
      "source": [
        "#загружаем отзывы для тренировочного и тестового наборов данных:\n",
        "train_pos = load_reviews_from_folder(r'D:\\train\\pos', 1)\n",
        "train_neg = load_reviews_from_folder(r'D:\\train\\neg', 0)\n",
        "test_pos = load_reviews_from_folder(r'D:\\test\\pos', 1)\n",
        "test_neg = load_reviews_from_folder(r'D:\\test\\neg', 0)\n"
      ]
    },
    {
      "cell_type": "code",
      "execution_count": null,
      "id": "224d4ca6-24ce-4bdf-bb4d-a56182b5bc4d",
      "metadata": {
        "id": "224d4ca6-24ce-4bdf-bb4d-a56182b5bc4d"
      },
      "outputs": [],
      "source": [
        "# объединим загруженные отзывы в один набор данных:\n",
        "# Тренировочные данные\n",
        "train_data = train_pos + train_neg\n",
        "\n",
        "# Тестовые данные\n",
        "test_data = test_pos + test_neg\n",
        "\n",
        "# Преобразуем в DataFrame\n",
        "train_df = pd.DataFrame(train_data, columns=['review', 'sentiment'])\n",
        "test_df = pd.DataFrame(test_data, columns=['review', 'sentiment'])\n"
      ]
    },
    {
      "cell_type": "code",
      "execution_count": null,
      "id": "6689163d-45e7-487e-bad3-fc86bc645a17",
      "metadata": {
        "id": "6689163d-45e7-487e-bad3-fc86bc645a17",
        "outputId": "b501e3e8-75d1-4d68-e6f1-cc8c6b089871"
      },
      "outputs": [
        {
          "data": {
            "text/html": [
              "<div>\n",
              "<style scoped>\n",
              "    .dataframe tbody tr th:only-of-type {\n",
              "        vertical-align: middle;\n",
              "    }\n",
              "\n",
              "    .dataframe tbody tr th {\n",
              "        vertical-align: top;\n",
              "    }\n",
              "\n",
              "    .dataframe thead th {\n",
              "        text-align: right;\n",
              "    }\n",
              "</style>\n",
              "<table border=\"1\" class=\"dataframe\">\n",
              "  <thead>\n",
              "    <tr style=\"text-align: right;\">\n",
              "      <th></th>\n",
              "      <th>review</th>\n",
              "      <th>sentiment</th>\n",
              "    </tr>\n",
              "  </thead>\n",
              "  <tbody>\n",
              "    <tr>\n",
              "      <th>0</th>\n",
              "      <td>Bromwell High is a cartoon comedy. It ran at t...</td>\n",
              "      <td>1</td>\n",
              "    </tr>\n",
              "    <tr>\n",
              "      <th>1</th>\n",
              "      <td>Homelessness (or Houselessness as George Carli...</td>\n",
              "      <td>1</td>\n",
              "    </tr>\n",
              "    <tr>\n",
              "      <th>2</th>\n",
              "      <td>Brilliant over-acting by Lesley Ann Warren. Be...</td>\n",
              "      <td>1</td>\n",
              "    </tr>\n",
              "    <tr>\n",
              "      <th>3</th>\n",
              "      <td>This is easily the most underrated film inn th...</td>\n",
              "      <td>1</td>\n",
              "    </tr>\n",
              "    <tr>\n",
              "      <th>4</th>\n",
              "      <td>This is not the typical Mel Brooks film. It wa...</td>\n",
              "      <td>1</td>\n",
              "    </tr>\n",
              "  </tbody>\n",
              "</table>\n",
              "</div>"
            ],
            "text/plain": [
              "                                              review  sentiment\n",
              "0  Bromwell High is a cartoon comedy. It ran at t...          1\n",
              "1  Homelessness (or Houselessness as George Carli...          1\n",
              "2  Brilliant over-acting by Lesley Ann Warren. Be...          1\n",
              "3  This is easily the most underrated film inn th...          1\n",
              "4  This is not the typical Mel Brooks film. It wa...          1"
            ]
          },
          "execution_count": 63,
          "metadata": {},
          "output_type": "execute_result"
        }
      ],
      "source": [
        "train_df.head()"
      ]
    },
    {
      "cell_type": "code",
      "execution_count": null,
      "id": "3cae870a-a908-4a9f-bbd1-a43c8711da31",
      "metadata": {
        "id": "3cae870a-a908-4a9f-bbd1-a43c8711da31",
        "outputId": "1c3debe7-0fdf-41cf-89aa-fec7d2e07a77"
      },
      "outputs": [
        {
          "data": {
            "text/html": [
              "<div>\n",
              "<style scoped>\n",
              "    .dataframe tbody tr th:only-of-type {\n",
              "        vertical-align: middle;\n",
              "    }\n",
              "\n",
              "    .dataframe tbody tr th {\n",
              "        vertical-align: top;\n",
              "    }\n",
              "\n",
              "    .dataframe thead th {\n",
              "        text-align: right;\n",
              "    }\n",
              "</style>\n",
              "<table border=\"1\" class=\"dataframe\">\n",
              "  <thead>\n",
              "    <tr style=\"text-align: right;\">\n",
              "      <th></th>\n",
              "      <th>review</th>\n",
              "      <th>sentiment</th>\n",
              "    </tr>\n",
              "  </thead>\n",
              "  <tbody>\n",
              "    <tr>\n",
              "      <th>0</th>\n",
              "      <td>I went and saw this movie last night after bei...</td>\n",
              "      <td>1</td>\n",
              "    </tr>\n",
              "    <tr>\n",
              "      <th>1</th>\n",
              "      <td>Actor turned director Bill Paxton follows up h...</td>\n",
              "      <td>1</td>\n",
              "    </tr>\n",
              "    <tr>\n",
              "      <th>2</th>\n",
              "      <td>As a recreational golfer with some knowledge o...</td>\n",
              "      <td>1</td>\n",
              "    </tr>\n",
              "    <tr>\n",
              "      <th>3</th>\n",
              "      <td>I saw this film in a sneak preview, and it is ...</td>\n",
              "      <td>1</td>\n",
              "    </tr>\n",
              "    <tr>\n",
              "      <th>4</th>\n",
              "      <td>Bill Paxton has taken the true story of the 19...</td>\n",
              "      <td>1</td>\n",
              "    </tr>\n",
              "  </tbody>\n",
              "</table>\n",
              "</div>"
            ],
            "text/plain": [
              "                                              review  sentiment\n",
              "0  I went and saw this movie last night after bei...          1\n",
              "1  Actor turned director Bill Paxton follows up h...          1\n",
              "2  As a recreational golfer with some knowledge o...          1\n",
              "3  I saw this film in a sneak preview, and it is ...          1\n",
              "4  Bill Paxton has taken the true story of the 19...          1"
            ]
          },
          "execution_count": 64,
          "metadata": {},
          "output_type": "execute_result"
        }
      ],
      "source": [
        "test_df.head()"
      ]
    },
    {
      "cell_type": "code",
      "execution_count": null,
      "id": "c180c2a1-d690-4683-9f87-9fd1a0c5fb47",
      "metadata": {
        "id": "c180c2a1-d690-4683-9f87-9fd1a0c5fb47"
      },
      "outputs": [],
      "source": [
        "#преобразуем текстовые данные в числовой формат.\n",
        "#Примененим Bag of Words (BOW):\n",
        "\n",
        "vectorizer_bow = CountVectorizer(stop_words='english', max_features=5000)\n",
        "\n",
        "# Преобразуем тренировочные и тестовые данные\n",
        "X_train_bow = vectorizer_bow.fit_transform(train_df['review'])\n",
        "X_test_bow = vectorizer_bow.transform(test_df['review'])\n"
      ]
    },
    {
      "cell_type": "code",
      "execution_count": null,
      "id": "709ea69d-6198-4ba1-84c9-6b9d8168b9d1",
      "metadata": {
        "id": "709ea69d-6198-4ba1-84c9-6b9d8168b9d1"
      },
      "outputs": [],
      "source": [
        "#Применение TF-IDF:\n",
        "vectorizer_tfidf = TfidfVectorizer(stop_words='english', max_features=5000)\n",
        "\n",
        "# Преобразуем тренировочные и тестовые данные\n",
        "X_train_tfidf = vectorizer_tfidf.fit_transform(train_df['review'])\n",
        "X_test_tfidf = vectorizer_tfidf.transform(test_df['review'])\n"
      ]
    },
    {
      "cell_type": "code",
      "execution_count": null,
      "id": "098a066c-a668-4205-8b7d-3ac5580f0b8e",
      "metadata": {
        "id": "098a066c-a668-4205-8b7d-3ac5580f0b8e",
        "outputId": "56764920-5c49-4dff-86dd-37fb894ed8d9"
      },
      "outputs": [
        {
          "data": {
            "image/png": "[encoded data removed]",
            "text/plain": [
              "<Figure size 800x600 with 1 Axes>"
            ]
          },
          "metadata": {},
          "output_type": "display_data"
        },
        {
          "name": "stdout",
          "output_type": "stream",
          "text": [
            "Accuracy (Logistic Regression BOW): 0.84312\n",
            "              precision    recall  f1-score   support\n",
            "\n",
            "           0       0.84      0.85      0.84     12500\n",
            "           1       0.85      0.83      0.84     12500\n",
            "\n",
            "    accuracy                           0.84     25000\n",
            "   macro avg       0.84      0.84      0.84     25000\n",
            "weighted avg       0.84      0.84      0.84     25000\n",
            "\n",
            "Accuracy (Logistic Regression TF-IDF): 0.87784\n",
            "              precision    recall  f1-score   support\n",
            "\n",
            "           0       0.88      0.87      0.88     12500\n",
            "           1       0.88      0.88      0.88     12500\n",
            "\n",
            "    accuracy                           0.88     25000\n",
            "   macro avg       0.88      0.88      0.88     25000\n",
            "weighted avg       0.88      0.88      0.88     25000\n",
            "\n"
          ]
        }
      ],
      "source": [
        "from sklearn.linear_model import LogisticRegression\n",
        "from sklearn.metrics import roc_curve, auc, RocCurveDisplay\n",
        "import matplotlib.pyplot as plt\n",
        "\n",
        "# Логистическая регрессия для BOW\n",
        "model_lr_bow = LogisticRegression(max_iter=1000)\n",
        "model_lr_bow.fit(X_train_bow, train_df['sentiment'])\n",
        "\n",
        "# Прогнозы вероятностей для BOW\n",
        "y_probs_lr_bow = model_lr_bow.predict_proba(X_test_bow)[:, 1]\n",
        "\n",
        "# Логистическая регрессия для TF-IDF\n",
        "model_lr_tfidf = LogisticRegression(max_iter=1000)\n",
        "model_lr_tfidf.fit(X_train_tfidf, train_df['sentiment'])\n",
        "\n",
        "# Прогнозы вероятностей для TF-IDF\n",
        "y_probs_lr_tfidf = model_lr_tfidf.predict_proba(X_test_tfidf)[:, 1]\n",
        "\n",
        "# Построение ROC-кривых и вычисление AUC для BOW и TF-IDF\n",
        "fpr_lr_bow, tpr_lr_bow, _ = roc_curve(test_df['sentiment'], y_probs_lr_bow)\n",
        "roc_auc_lr_bow = auc(fpr_lr_bow, tpr_lr_bow)\n",
        "\n",
        "fpr_lr_tfidf, tpr_lr_tfidf, _ = roc_curve(test_df['sentiment'], y_probs_lr_tfidf)\n",
        "roc_auc_lr_tfidf = auc(fpr_lr_tfidf, tpr_lr_tfidf)\n",
        "\n",
        "# Построение графиков ROC-кривых для BOW и TF-IDF\n",
        "plt.figure(figsize=(8, 6))\n",
        "plt.plot(fpr_lr_bow, tpr_lr_bow, color='green', lw=2, label=f'Logistic Regression BOW ROC (area = {roc_auc_lr_bow:.2f})')\n",
        "plt.plot(fpr_lr_tfidf, tpr_lr_tfidf, color='red', lw=2, label=f'Logistic Regression TF-IDF ROC (area = {roc_auc_lr_tfidf:.2f})')\n",
        "plt.plot([0, 1], [0, 1], color='navy', lw=2, linestyle='--')\n",
        "plt.xlim([0.0, 1.0])\n",
        "plt.ylim([0.0, 1.05])\n",
        "plt.xlabel('False Positive Rate')\n",
        "plt.ylabel('True Positive Rate')\n",
        "plt.title('ROC for Logistic Regression Models')\n",
        "plt.legend(loc=\"lower right\")\n",
        "plt.show()\n",
        "\n",
        "# Прогнозы для BOW и TF-IDF\n",
        "y_pred_lr_bow = model_lr_bow.predict(X_test_bow)\n",
        "y_pred_lr_tfidf = model_lr_tfidf.predict(X_test_tfidf)\n",
        "\n",
        "\n",
        "print(\"Accuracy (Logistic Regression BOW):\", accuracy_score(test_df['sentiment'], y_pred_lr_bow))\n",
        "print(classification_report(test_df['sentiment'], y_pred_lr_bow))\n",
        "\n",
        "print(\"Accuracy (Logistic Regression TF-IDF):\", accuracy_score(test_df['sentiment'], y_pred_lr_tfidf))\n",
        "print(classification_report(test_df['sentiment'], y_pred_lr_tfidf))\n"
      ]
    },
    {
      "cell_type": "code",
      "execution_count": null,
      "id": "91685cd3-4532-430e-b7cf-29965d668cc3",
      "metadata": {
        "id": "91685cd3-4532-430e-b7cf-29965d668cc3"
      },
      "outputs": [],
      "source": [
        "#Видим, что обе модели показали хорошие результаты, но при использовании TF-IDF векторизации, результаты намного лучше.\n",
        "#воспользуемся словарем тональности слов"
      ]
    },
    {
      "cell_type": "code",
      "execution_count": null,
      "id": "39c19c43-a250-4b5d-a57c-b11765eaba1b",
      "metadata": {
        "id": "39c19c43-a250-4b5d-a57c-b11765eaba1b",
        "outputId": "f2b51b9b-892a-4403-d66d-988413791057"
      },
      "outputs": [
        {
          "name": "stdout",
          "output_type": "stream",
          "text": [
            "Accuracy (Logistic Regression TF-IDF): 0.87628\n",
            "              precision    recall  f1-score   support\n",
            "\n",
            "           0       0.88      0.87      0.88     12500\n",
            "           1       0.87      0.88      0.88     12500\n",
            "\n",
            "    accuracy                           0.88     25000\n",
            "   macro avg       0.88      0.88      0.88     25000\n",
            "weighted avg       0.88      0.88      0.88     25000\n",
            "\n"
          ]
        }
      ],
      "source": [
        "\n",
        "#Загрузка словаря  тональности слов\n",
        "word_sentiment = {\"the\": -0.1, \"amazing\": 0.9, \"bad\": -0.8}\n",
        "\n",
        "# функция взвешивания\n",
        "def custom_tfidf_weights(doc_term_matrix, feature_names):\n",
        "    # Применение весов к признакам на основе тональности\n",
        "    for idx, feature in enumerate(feature_names):\n",
        "        if feature in word_sentiment:\n",
        "            doc_term_matrix[:, idx] *= (1 + word_sentiment[feature])  # увеличение веса позитивных/негативных слов\n",
        "    return doc_term_matrix\n",
        "\n",
        "# Создание векторайзера с TF-IDF\n",
        "vectorizer = TfidfVectorizer(max_features=5000, stop_words='english')\n",
        "X_train_tfidf = vectorizer.fit_transform(train_df['review'])\n",
        "X_test_tfidf = vectorizer.transform(test_df['review'])\n",
        "\n",
        "# Применение выборочного взвешивания\n",
        "X_train_tfidf = custom_tfidf_weights(X_train_tfidf, vectorizer.get_feature_names_out())\n",
        "X_test_tfidf = custom_tfidf_weights(X_test_tfidf, vectorizer.get_feature_names_out())\n",
        "\n",
        "# Обучение модели логистической регрессии\n",
        "model_lr_tfidf = LogisticRegression(max_iter=1000)\n",
        "model_lr_tfidf.fit(X_train_tfidf, train_df['sentiment'])\n",
        "\n",
        "# Оценка модели\n",
        "y_pred_tfidf = model_lr_tfidf.predict(X_test_tfidf)\n",
        "print(\"Accuracy (Logistic Regression TF-IDF):\", accuracy_score(test_df['sentiment'], y_pred_tfidf))\n",
        "print(classification_report(test_df['sentiment'], y_pred_tfidf))\n"
      ]
    },
    {
      "cell_type": "code",
      "execution_count": null,
      "id": "570425c0-9e86-4a5d-a8b1-101f38bcf335",
      "metadata": {
        "id": "570425c0-9e86-4a5d-a8b1-101f38bcf335"
      },
      "outputs": [],
      "source": [
        "#не видим улучшения, поработаем с данными"
      ]
    },
    {
      "cell_type": "code",
      "execution_count": null,
      "id": "31654355-3aed-4879-bfdb-a684a0cc2980",
      "metadata": {
        "id": "31654355-3aed-4879-bfdb-a684a0cc2980",
        "outputId": "5cf205aa-60a9-4094-8f49-8ffa48206d5a"
      },
      "outputs": [
        {
          "name": "stdout",
          "output_type": "stream",
          "text": [
            "review             0\n",
            "sentiment          0\n",
            "clean_check        0\n",
            "clean_check_len    0\n",
            "dtype: int64\n",
            "review             0\n",
            "sentiment          0\n",
            "clean_check        0\n",
            "clean_check_len    0\n",
            "dtype: int64\n"
          ]
        }
      ],
      "source": [
        "# Проверка на наличие пропущенных данных\n",
        "print(train_df.isnull().sum())\n",
        "print(test_df.isnull().sum())\n",
        "\n"
      ]
    },
    {
      "cell_type": "code",
      "execution_count": null,
      "id": "a9911ffa-e4ab-40d8-b9c6-5f3aa7ba7df0",
      "metadata": {
        "id": "a9911ffa-e4ab-40d8-b9c6-5f3aa7ba7df0"
      },
      "outputs": [],
      "source": [
        "import re\n",
        "from sklearn.feature_extraction.text import ENGLISH_STOP_WORDS\n",
        "\n",
        "# Функция для очистки текста от всех символов, кроме букв и пробелов\n",
        "def clean_text(text):\n",
        "    # Удаление всех символов, кроме букв и пробелов\n",
        "    text = re.sub(r'[^a-zA-Z\\s]', '', text)\n",
        "    # Приведение к нижнему регистру\n",
        "    text = text.lower()\n",
        "    return text\n",
        "\n",
        "# Функция для удаления стоп-слов\n",
        "def remove_stopwords(text):\n",
        "    return ' '.join([word for word in text.split() if word not in ENGLISH_STOP_WORDS])\n",
        "\n",
        "# Применяем очистку текста\n",
        "train_df['clean_check'] = train_df['review'].apply(clean_text)\n",
        "test_df['clean_check'] = test_df['review'].apply(clean_text)\n",
        "\n",
        "# Применяем удаление стоп-слов\n",
        "train_df['clean_check'] = train_df['clean_check'].apply(remove_stopwords)\n",
        "test_df['clean_check'] = test_df['clean_check'].apply(remove_stopwords)\n",
        "\n",
        "# Удалим пустые строки\n",
        "train_df = train_df[train_df['clean_check'].str.strip() != '']\n",
        "test_df = test_df[test_df['clean_check'].str.strip() != '']\n",
        "\n",
        "# Проверка минимальной длины строки\n",
        "train_df['clean_check_len'] = train_df['clean_check'].apply(len)\n",
        "test_df['clean_check_len'] = test_df['clean_check'].apply(len)\n",
        "\n",
        "# Удалим строки с длиной менее 3 символов\n",
        "train_df = train_df[train_df['clean_check_len'] >= 3]\n",
        "test_df = test_df[test_df['clean_check_len'] >= 3]\n",
        "\n",
        "# Векторизация TF-IDF\n",
        "from sklearn.feature_extraction.text import TfidfVectorizer\n",
        "\n",
        "tfidf_vectorizer = TfidfVectorizer()\n",
        "\n",
        "# Применяем векторизацию\n",
        "X_train_tfidf = tfidf_vectorizer.fit_transform(train_df['clean_check'])\n",
        "X_test_tfidf = tfidf_vectorizer.transform(test_df['clean_check'])\n",
        "\n"
      ]
    },
    {
      "cell_type": "code",
      "execution_count": null,
      "id": "54c8801b-901e-4f3f-a643-0becdeea5fe2",
      "metadata": {
        "id": "54c8801b-901e-4f3f-a643-0becdeea5fe2",
        "outputId": "b2d34b81-c813-487f-da8a-67dbbb840127"
      },
      "outputs": [
        {
          "name": "stdout",
          "output_type": "stream",
          "text": [
            "Accuracy (Logistic Regression TF-IDF): 0.87684\n",
            "              precision    recall  f1-score   support\n",
            "\n",
            "           0       0.88      0.87      0.88     12500\n",
            "           1       0.88      0.88      0.88     12500\n",
            "\n",
            "    accuracy                           0.88     25000\n",
            "   macro avg       0.88      0.88      0.88     25000\n",
            "weighted avg       0.88      0.88      0.88     25000\n",
            "\n"
          ]
        }
      ],
      "source": [
        "model_tfidf = LogisticRegression(max_iter=1000)\n",
        "\n",
        "\n",
        "model_tfidf.fit(X_train_tfidf, train_df['sentiment'])\n",
        "y_pred_tfidf = model_tfidf.predict(X_test_tfidf)\n",
        "\n",
        "print(\"Accuracy (Logistic Regression TF-IDF):\", model_tfidf.score(X_test_tfidf, test_df['sentiment']))\n",
        "print(classification_report(test_df['sentiment'], y_pred_tfidf))\n"
      ]
    },
    {
      "cell_type": "code",
      "execution_count": null,
      "id": "b01d859c-36b7-476c-ac36-fe49f1534742",
      "metadata": {
        "id": "b01d859c-36b7-476c-ac36-fe49f1534742"
      },
      "outputs": [],
      "source": [
        "# немного лучше, но все еще не идеально. Воспользуемся дополнительной информацией о  рейтинге фильма, <=4 - отрицательный отзыв\n",
        "#>=7 - положительный"
      ]
    },
    {
      "cell_type": "code",
      "execution_count": null,
      "id": "34906561-fb35-4aff-b814-f4ddd987c364",
      "metadata": {
        "id": "34906561-fb35-4aff-b814-f4ddd987c364",
        "outputId": "ecf7aa91-f8ee-4867-eb98-82b9f54c5b6a"
      },
      "outputs": [
        {
          "name": "stdout",
          "output_type": "stream",
          "text": [
            "                                              review  sentiment  rating\n",
            "0  Bromwell High is a cartoon comedy. It ran at t...          1       9\n",
            "1  Homelessness (or Houselessness as George Carli...          1       8\n",
            "2  Brilliant over-acting by Lesley Ann Warren. Be...          1      10\n",
            "3  This is easily the most underrated film inn th...          1       7\n",
            "4  This is not the typical Mel Brooks film. It wa...          1       8\n",
            "                                              review  sentiment  rating\n",
            "0  I went and saw this movie last night after bei...          1      10\n",
            "1  Actor turned director Bill Paxton follows up h...          1       7\n",
            "2  As a recreational golfer with some knowledge o...          1       9\n",
            "3  I saw this film in a sneak preview, and it is ...          1       8\n",
            "4  Bill Paxton has taken the true story of the 19...          1       8\n"
          ]
        }
      ],
      "source": [
        "# Функция для чтения отзывов, присвоения меток и извлечения рейтинга из названия файла\n",
        "def load_reviews_with_rating(folder, label):\n",
        "    reviews = []\n",
        "    for filename in os.listdir(folder):\n",
        "        if filename.endswith(\".txt\"):\n",
        "            # Извлечение рейтинга из имени файла\n",
        "            rating = int(filename.split('_')[1].split('.')[0])\n",
        "\n",
        "            # Чтение файла\n",
        "            with open(os.path.join(folder, filename), 'r', encoding='utf-8') as file:\n",
        "                review_text = file.read()\n",
        "                # Добавляем отзыв, метку и рейтинг\n",
        "                reviews.append((review_text, label, rating))\n",
        "    return reviews\n",
        "\n",
        "# Загружаем отзывы с метками и рейтингом для тренировочного и тестового наборов\n",
        "train_pos_r = load_reviews_with_rating(r'D:\\train\\pos', 1)\n",
        "train_neg_r = load_reviews_with_rating(r'D:\\train\\neg', 0)\n",
        "test_pos_r = load_reviews_with_rating(r'D:\\test\\pos', 1)\n",
        "test_neg_r = load_reviews_with_rating(r'D:\\test\\neg', 0)\n",
        "\n",
        "# Объединяем отзывы в один набор данных\n",
        "# Тренировочные данные\n",
        "train_data_r = train_pos_r + train_neg_r\n",
        "\n",
        "# Тестовые данные\n",
        "test_data_r = test_pos_r + test_neg_r\n",
        "\n",
        "# Преобразуем в DataFrame\n",
        "train_df_r = pd.DataFrame(train_data_r, columns=['review', 'sentiment', 'rating'])\n",
        "test_df_r = pd.DataFrame(test_data_r, columns=['review', 'sentiment', 'rating'])\n",
        "\n",
        "# Проверка данных\n",
        "print(train_df_r.head())\n",
        "print(test_df_r.head())"
      ]
    },
    {
      "cell_type": "code",
      "execution_count": null,
      "id": "bedd25a0-0e63-4fd0-bef2-99160a38c9db",
      "metadata": {
        "id": "bedd25a0-0e63-4fd0-bef2-99160a38c9db",
        "outputId": "3f440f73-abaf-48e1-d32f-7467625e74ae"
      },
      "outputs": [
        {
          "name": "stdout",
          "output_type": "stream",
          "text": [
            "review       0\n",
            "sentiment    0\n",
            "rating       0\n",
            "dtype: int64\n",
            "review       0\n",
            "sentiment    0\n",
            "rating       0\n",
            "dtype: int64\n"
          ]
        }
      ],
      "source": [
        "# Проверка на наличие пропущенных данных\n",
        "print(train_df_r.isnull().sum())\n",
        "print(test_df_r.isnull().sum())"
      ]
    },
    {
      "cell_type": "code",
      "execution_count": null,
      "id": "784555fe-75f7-4555-a665-a25951a368bd",
      "metadata": {
        "id": "784555fe-75f7-4555-a665-a25951a368bd"
      },
      "outputs": [],
      "source": [
        "# отфильтруем нейтральные отзывы с рейтингом между 5 и 6, если они есть\n",
        "train_df_r = train_df_r[(train_df_r['rating'] <= 4) | (train_df_r['rating'] >= 7)]\n",
        "test_df_r = test_df_r[(test_df_r['rating'] <= 4) | (test_df_r['rating'] >= 7)]"
      ]
    },
    {
      "cell_type": "code",
      "execution_count": null,
      "id": "a2d68a23-7d7f-4dee-b13a-7916ca0b743f",
      "metadata": {
        "id": "a2d68a23-7d7f-4dee-b13a-7916ca0b743f"
      },
      "outputs": [],
      "source": [
        "# Применяем очистку текста\n",
        "train_df_r['clean_check'] = train_df_r['review'].apply(clean_text)\n",
        "test_df_r['clean_check'] = test_df_r['review'].apply(clean_text)\n",
        "\n",
        "# Применяем удаление стоп-слов\n",
        "train_df_r['clean_check'] = train_df_r['clean_check'].apply(remove_stopwords)\n",
        "test_df_r['clean_check'] = test_df_r['clean_check'].apply(remove_stopwords)\n",
        "\n",
        "# Удалим пустые строки\n",
        "train_df_r = train_df_r[train_df_r['clean_check'].str.strip() != '']\n",
        "test_df_r = test_df_r[test_df_r['clean_check'].str.strip() != '']\n",
        "\n",
        "# Проверка минимальной длины строки\n",
        "train_df_r['clean_check_len'] = train_df_r['clean_check'].apply(len)\n",
        "test_df_r['clean_check_len'] = test_df_r['clean_check'].apply(len)\n",
        "\n",
        "# Удалим строки с длиной менее 3 символов\n",
        "train_df_r = train_df_r[train_df_r['clean_check_len'] >= 3]\n",
        "test_df_r = test_df_r[test_df_r['clean_check_len'] >= 3]"
      ]
    },
    {
      "cell_type": "code",
      "execution_count": null,
      "id": "44ff103d-e0b8-484d-8afe-9c3b3531ed09",
      "metadata": {
        "id": "44ff103d-e0b8-484d-8afe-9c3b3531ed09",
        "outputId": "ccff3dd4-c7ef-49ab-c4d9-abbf80534996"
      },
      "outputs": [
        {
          "name": "stdout",
          "output_type": "stream",
          "text": [
            "Accuracy (Logistic Regression with Rating): 1.0\n",
            "              precision    recall  f1-score   support\n",
            "\n",
            "           0       1.00      1.00      1.00     12500\n",
            "           1       1.00      1.00      1.00     12500\n",
            "\n",
            "    accuracy                           1.00     25000\n",
            "   macro avg       1.00      1.00      1.00     25000\n",
            "weighted avg       1.00      1.00      1.00     25000\n",
            "\n"
          ]
        }
      ],
      "source": [
        "from scipy.sparse import hstack\n",
        "\n",
        "# Векторизация текста с помощью TF-IDF\n",
        "tfidf_vectorizer = TfidfVectorizer()\n",
        "\n",
        "X_train_tfidf = tfidf_vectorizer.fit_transform(train_df_r['clean_check'])\n",
        "X_test_tfidf = tfidf_vectorizer.transform(test_df_r['clean_check'])\n",
        "\n",
        "# Преобразуем столбец с рейтингом в двумерный массив\n",
        "train_ratings = train_df_r['rating'].values.reshape(-1, 1)\n",
        "test_ratings = test_df_r['rating'].values.reshape(-1, 1)\n",
        "\n",
        "# Объединяем текстовые признаки и числовой признак рейтинга\n",
        "X_train_combined = hstack([X_train_tfidf, train_ratings])\n",
        "X_test_combined = hstack([X_test_tfidf, test_ratings])\n",
        "\n",
        "# Обучение модели логистической регрессии на + новых признаках\n",
        "model_tfidf = LogisticRegression(max_iter=1000)\n",
        "model_tfidf.fit(X_train_combined, train_df_r['sentiment'])\n",
        "\n",
        "# Предсказания\n",
        "y_pred_tfidf = model_tfidf.predict(X_test_combined)\n",
        "\n",
        "# Оценка модели\n",
        "print(\"Accuracy (Logistic Regression with Rating):\", model_tfidf.score(X_test_combined, test_df_r['sentiment']))\n",
        "print(classification_report(test_df['sentiment'], y_pred_tfidf))\n"
      ]
    },
    {
      "cell_type": "code",
      "execution_count": null,
      "id": "77e01494-dbf4-4760-b6ff-b47cf8868358",
      "metadata": {
        "id": "77e01494-dbf4-4760-b6ff-b47cf8868358"
      },
      "outputs": [],
      "source": [
        "#Теперь идеальные результаты:), построим ROC-AUC кривые"
      ]
    },
    {
      "cell_type": "code",
      "execution_count": null,
      "id": "9d1c58d3-a045-4eb5-b361-72c7b73b16d9",
      "metadata": {
        "id": "9d1c58d3-a045-4eb5-b361-72c7b73b16d9",
        "outputId": "09dfac34-ca7d-48b8-9a05-c46e83a3e536"
      },
      "outputs": [
        {
          "data": {
            "image/png": "[encoded data removed]",
            "text/plain": [
              "<Figure size 800x600 with 1 Axes>"
            ]
          },
          "metadata": {},
          "output_type": "display_data"
        },
        {
          "data": {
            "image/png": "[encoded data removed]",
            "text/plain": [
              "<Figure size 640x480 with 2 Axes>"
            ]
          },
          "metadata": {},
          "output_type": "display_data"
        }
      ],
      "source": [
        "from sklearn.metrics import  roc_auc_score, confusion_matrix, ConfusionMatrixDisplay\n",
        "\n",
        "# Предсказание вероятностей для построения ROC-кривой\n",
        "y_prob_tfidf = model_tfidf.predict_proba(X_test_combined)[:, 1]\n",
        "\n",
        "# ROC-AUC кривая\n",
        "fpr, tpr, thresholds = roc_curve(test_df['sentiment'], y_prob_tfidf)\n",
        "roc_auc = roc_auc_score(test_df['sentiment'], y_prob_tfidf)\n",
        "\n",
        "# Построение ROC-AUC кривой\n",
        "plt.figure(figsize=(8, 6))\n",
        "plt.plot(fpr, tpr, color='blue', label=f'ROC curve (AUC = {roc_auc:.2f})')\n",
        "plt.plot([0, 1], [0, 1], color='gray', linestyle='--')\n",
        "plt.xlabel('False Positive Rate')\n",
        "plt.ylabel('True Positive Rate')\n",
        "plt.title('ROC-AUC Curve')\n",
        "plt.legend(loc='lower right')\n",
        "plt.grid(True)\n",
        "plt.show()\n",
        "\n",
        "# Матрица ошибок\n",
        "conf_matrix = confusion_matrix(test_df['sentiment'], y_pred_tfidf)\n",
        "disp = ConfusionMatrixDisplay(confusion_matrix=conf_matrix, display_labels=model_tfidf.classes_)\n",
        "disp.plot(cmap=plt.cm.Blues)\n",
        "plt.title('Confusion Matrix')\n",
        "plt.show()"
      ]
    },
    {
      "cell_type": "code",
      "execution_count": null,
      "id": "a6a17707-f746-4887-91c2-675d32806ed2",
      "metadata": {
        "id": "a6a17707-f746-4887-91c2-675d32806ed2"
      },
      "outputs": [],
      "source": []
    }
  ],
  "metadata": {
    "kernelspec": {
      "display_name": "Python 3 (ipykernel)",
      "language": "python",
      "name": "python3"
    },
    "language_info": {
      "codemirror_mode": {
        "name": "ipython",
        "version": 3
      },
      "file_extension": ".py",
      "mimetype": "text/x-python",
      "name": "python",
      "nbconvert_exporter": "python",
      "pygments_lexer": "ipython3",
      "version": "3.12.4"
    },
    "colab": {
      "provenance": [],
      "include_colab_link": true
    }
  },
  "nbformat": 4,
  "nbformat_minor": 5
}